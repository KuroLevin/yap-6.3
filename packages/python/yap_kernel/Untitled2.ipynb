{
 "cells": [
  {
   "cell_type": "code",
   "execution_count": 6,
   "metadata": {
    "code_folding": [],
    "collapsed": false
   },
   "outputs": [
    {
     "name": "stdout",
     "output_type": "stream",
     "text": [
      "<ipywidgets.widgets.widget_selection.ToggleButtons object at 0x105e24da0>\n",
      "No (more) answers\n"
     ]
    }
   ],
   "source": [
    ":= import(mathplot).\n",
    "X := plot([1,2,3])"
   ]
  }
 ],
 "metadata": {
  "kernelspec": {
   "display_name": " YAP-6.3",
   "language": "prolog",
   "name": "yap_kernel"
  },
  "language_info": {
   "codemirror_mode": {
    "name": "prolog",
    "version": 2
   },
   "file_extension": ".yap",
   "help_links": [
    {
     "text": "MetaKernel Magics",
     "url": "https://github.com/calysto/metakernel/blob/master/metakernel/magics/README.md"
    }
   ],
   "mimetype": "text/prolog",
   "name": "text",
   "pygments_lexer": "prolog",
   "version": "0.0.1"
  },
  "latex_envs": {
   "bibliofile": "biblio.bib",
   "cite_by": "apalike",
   "current_citInitial": 1,
   "eqLabelWithNumbers": true,
   "eqNumInitial": 0
  },
  "nav_menu": {},
  "toc": {
   "navigate_menu": true,
   "number_sections": true,
   "sideBar": true,
   "threshold": 6,
   "toc_cell": false,
   "toc_section_display": "block",
   "toc_window_display": false
  },
  "widgets": {
   "state": {
    "09b21d398da9424d94cf3c8e51054154": {
     "views": []
    },
    "369de2fecba34468a7c9cf64076bac60": {
     "views": []
    },
    "7f758a42f83c469882761606f7f8133e": {
     "views": []
    },
    "c028bb350ed6424eb48a02762907868d": {
     "views": []
    }
   },
   "version": "1.1.2"
  }
 },
 "nbformat": 4,
 "nbformat_minor": 0
}
